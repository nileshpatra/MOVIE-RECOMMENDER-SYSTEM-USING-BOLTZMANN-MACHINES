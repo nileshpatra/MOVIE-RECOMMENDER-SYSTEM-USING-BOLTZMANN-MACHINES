{
 "cells": [
  {
   "cell_type": "code",
   "execution_count": 1,
   "metadata": {},
   "outputs": [],
   "source": [
    "import numpy as np\n",
    "import pandas as pd\n",
    "import torch\n",
    "import torch.nn as nn\n",
    "import torch.nn.parallel\n",
    "import torch.optim as optim\n",
    "import torch.utils.data\n",
    "from torch.autograd import Variable"
   ]
  },
  {
   "cell_type": "code",
   "execution_count": 2,
   "metadata": {},
   "outputs": [],
   "source": [
    "movies = pd.read_csv('/home/nilesh/Desktop/MY FILES/DEEP LEARNING COURSE/7. Boltzmann_Machines/Boltzmann_Machines/ml-1m/movies.dat' , delimiter = '::' , header = None , engine = 'python' , encoding = 'latin-1')"
   ]
  },
  {
   "cell_type": "code",
   "execution_count": 3,
   "metadata": {},
   "outputs": [],
   "source": [
    "users = pd.read_csv('/home/nilesh/Desktop/MY FILES/DEEP LEARNING COURSE/7. Boltzmann_Machines/Boltzmann_Machines/ml-1m/users.dat' , delimiter = '::' , header = None , engine = 'python' , encoding = 'latin-1')"
   ]
  },
  {
   "cell_type": "code",
   "execution_count": 4,
   "metadata": {},
   "outputs": [],
   "source": [
    "ratings = pd.read_csv('/home/nilesh/Desktop/MY FILES/DEEP LEARNING COURSE/7. Boltzmann_Machines/Boltzmann_Machines/ml-1m/ratings.dat' , delimiter = '::' , header = None , engine = 'python' , encoding = 'latin-1')"
   ]
  },
  {
   "cell_type": "code",
   "execution_count": 5,
   "metadata": {},
   "outputs": [],
   "source": [
    "training_set = np.array(pd.read_csv('/home/nilesh/Desktop/MY FILES/DEEP LEARNING COURSE/7. Boltzmann_Machines/Boltzmann_Machines/ml-100k/u1.base' , delimiter='\\t') , dtype='int')\n",
    "testing_set = np.array(pd.read_csv('/home/nilesh/Desktop/MY FILES/DEEP LEARNING COURSE/7. Boltzmann_Machines/Boltzmann_Machines/ml-100k/u1.test' , delimiter='\\t') , dtype='int')"
   ]
  },
  {
   "cell_type": "code",
   "execution_count": 6,
   "metadata": {},
   "outputs": [],
   "source": [
    "total_users = int(max(max(training_set[:,0]),max(testing_set[:,0])))\n",
    "total_movies = int(max(max(training_set[:,1]),max(testing_set[:,1])))"
   ]
  },
  {
   "cell_type": "code",
   "execution_count": 7,
   "metadata": {},
   "outputs": [
    {
     "data": {
      "text/plain": [
       "(79999, 4)"
      ]
     },
     "execution_count": 7,
     "metadata": {},
     "output_type": "execute_result"
    }
   ],
   "source": [
    "training_set.shape\n"
   ]
  },
  {
   "cell_type": "code",
   "execution_count": 9,
   "metadata": {},
   "outputs": [],
   "source": [
    "def convert_data(data):\n",
    "    ret_data = []\n",
    "    for i in range(1,total_users+1):\n",
    "        ratings = np.zeros(total_movies)\n",
    "        for j in range(0,data.shape[0]):\n",
    "            if data[j][0] == i:\n",
    "                ratings[data[j][1] - 1] = data[j][2] \n",
    "        ret_data.append(list(ratings))\n",
    "    return ret_data"
   ]
  },
  {
   "cell_type": "code",
   "execution_count": 10,
   "metadata": {},
   "outputs": [
    {
     "data": {
      "text/plain": [
       "4"
      ]
     },
     "execution_count": 10,
     "metadata": {},
     "output_type": "execute_result"
    }
   ],
   "source": [
    "len(training_set[0])"
   ]
  },
  {
   "cell_type": "code",
   "execution_count": 11,
   "metadata": {},
   "outputs": [
    {
     "data": {
      "text/plain": [
       "1682"
      ]
     },
     "execution_count": 11,
     "metadata": {},
     "output_type": "execute_result"
    }
   ],
   "source": [
    "total_movies"
   ]
  },
  {
   "cell_type": "code",
   "execution_count": 12,
   "metadata": {
    "scrolled": true
   },
   "outputs": [],
   "source": [
    "training_set_new = convert_data(training_set)"
   ]
  },
  {
   "cell_type": "code",
   "execution_count": 13,
   "metadata": {},
   "outputs": [],
   "source": [
    "testing_set_new = convert_data(testing_set)"
   ]
  },
  {
   "cell_type": "code",
   "execution_count": 14,
   "metadata": {},
   "outputs": [
    {
     "data": {
      "text/plain": [
       "(943, 1682)"
      ]
     },
     "execution_count": 14,
     "metadata": {},
     "output_type": "execute_result"
    }
   ],
   "source": [
    "np.array(testing_set_new).shape"
   ]
  },
  {
   "cell_type": "code",
   "execution_count": 15,
   "metadata": {},
   "outputs": [],
   "source": [
    "xtrain = torch.FloatTensor(training_set_new)\n",
    "xtest = torch.FloatTensor(testing_set_new)"
   ]
  },
  {
   "cell_type": "code",
   "execution_count": 16,
   "metadata": {},
   "outputs": [
    {
     "name": "stdout",
     "output_type": "stream",
     "text": [
      "<class 'torch.Tensor'>\n"
     ]
    }
   ],
   "source": [
    "print(type(xtrain))"
   ]
  },
  {
   "cell_type": "code",
   "execution_count": 17,
   "metadata": {},
   "outputs": [],
   "source": [
    "xtrain[xtrain == 0] = -1\n",
    "xtrain[xtrain == 1] = 0\n",
    "xtrain[xtrain == 1] = 0\n",
    "xtrain[xtrain >= 3] = 1\n",
    "xtest[xtest == 0] = -1\n",
    "xtest[xtest ==1 ] = 0\n",
    "xtest[xtest ==2 ] = 0\n",
    "xtest[xtest >= 3] = 1"
   ]
  },
  {
   "cell_type": "code",
   "execution_count": 32,
   "metadata": {},
   "outputs": [],
   "source": [
    "class RBM():\n",
    "    def __init__(self , nv , nh):\n",
    "        self.w = torch.randn(nh,nv)\n",
    "        self.a = torch.randn(1 , nh)\n",
    "        self.b = torch.randn(1 , nv)\n",
    "        \n",
    "    def sample_h(self , x):\n",
    "        wx = torch.mm(x , self.w.t())\n",
    "        activation = wx + self.a.expand_as(wx)\n",
    "        p_h_given_v = torch.sigmoid(activation)\n",
    "        return p_h_given_v , torch.bernoulli(p_h_given_v)\n",
    "    \n",
    "    def sample_v(self , y):\n",
    "        wy = torch.mm(y , self.w)\n",
    "        activation = wy + self.b.expand_as(wy)\n",
    "        p_v_given_h = torch.sigmoid(activation)\n",
    "        return p_v_given_h , torch.bernoulli(p_v_given_h)\n",
    "    \n",
    "    def train(self , v0 , vk , ph0 , phk):\n",
    "        self.w +=(torch.mm(v0.t() , ph0) - torch.mm(vk.t() , phk)).t()\n",
    "        self.b += torch.sum((v0 - vk) , 0)\n",
    "        self.a += torch.sum((ph0 - phk) , 0)"
   ]
  },
  {
   "cell_type": "code",
   "execution_count": 36,
   "metadata": {},
   "outputs": [],
   "source": [
    "nh = 100\n",
    "nv = len(xtrain[0])\n",
    "batch_size = 100\n",
    "rbm = RBM(nv , nh)"
   ]
  },
  {
   "cell_type": "code",
   "execution_count": 42,
   "metadata": {},
   "outputs": [
    {
     "name": "stdout",
     "output_type": "stream",
     "text": [
      "epoch :  1 loss : tensor(0.2133)\n",
      "epoch :  2 loss : tensor(0.2229)\n",
      "epoch :  3 loss : tensor(0.2223)\n",
      "epoch :  4 loss : tensor(0.2134)\n",
      "epoch :  5 loss : tensor(0.2189)\n",
      "epoch :  6 loss : tensor(0.2190)\n",
      "epoch :  7 loss : tensor(0.2174)\n",
      "epoch :  8 loss : tensor(0.2154)\n",
      "epoch :  9 loss : tensor(0.2160)\n",
      "epoch :  10 loss : tensor(0.2193)\n"
     ]
    }
   ],
   "source": [
    "nb_epoch = 10\n",
    "for epoch in range(1 , nb_epoch + 1):\n",
    "    train_loss = 0\n",
    "    ctr = 0.\n",
    "    for user in range(0 , total_users - batch_size , batch_size):\n",
    "        vk = xtrain[user:user + batch_size]\n",
    "        v0 = xtrain[user:user + batch_size]\n",
    "        ph0,_ = rbm.sample_h(v0)\n",
    "        for k in range(10):\n",
    "            _,hk = rbm.sample_h(vk)\n",
    "            _,vk = rbm.sample_v(hk)\n",
    "            vk[v0<0] = v0[v0<0]\n",
    "        phk ,_ = rbm.sample_h(vk)\n",
    "        rbm.train(v0 , vk , ph0 , phk) \n",
    "        train_loss += torch.mean(torch.abs(v0[v0>=0] - vk[v0>=0]))\n",
    "        ctr += 1.\n",
    "    print('epoch : ', epoch , 'loss :' , train_loss/ctr)"
   ]
  },
  {
   "cell_type": "code",
   "execution_count": 43,
   "metadata": {},
   "outputs": [
    {
     "name": "stdout",
     "output_type": "stream",
     "text": [
      "loss : tensor(0.1786)\n"
     ]
    }
   ],
   "source": [
    "test_loss = 0\n",
    "ctr = 0.\n",
    "for user in range(0 , total_users):\n",
    "    v = xtrain[user:user + 1]\n",
    "    vt = xtest[user:user + 1]\n",
    "    if len(vt[vt>=0]) > 0:\n",
    "        _,h = rbm.sample_h(v)\n",
    "        _,v = rbm.sample_v(h)\n",
    "        test_loss += torch.mean(torch.abs(vt[vt>=0] - v[vt>=0]))\n",
    "        ctr += 1.\n",
    "print('loss :' , str(test_loss/ctr))"
   ]
  }
 ],
 "metadata": {
  "kernelspec": {
   "display_name": "Python 3",
   "language": "python",
   "name": "python3"
  },
  "language_info": {
   "codemirror_mode": {
    "name": "ipython",
    "version": 3
   },
   "file_extension": ".py",
   "mimetype": "text/x-python",
   "name": "python",
   "nbconvert_exporter": "python",
   "pygments_lexer": "ipython3",
   "version": "3.6.6"
  }
 },
 "nbformat": 4,
 "nbformat_minor": 2
}
